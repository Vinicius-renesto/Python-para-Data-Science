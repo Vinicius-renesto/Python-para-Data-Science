{
 "cells": [
  {
   "cell_type": "markdown",
   "id": "3ab7f8a5-d00a-4094-acee-ab6ecc107888",
   "metadata": {},
   "source": [
    "import numpy as np"
   ]
  },
  {
   "cell_type": "code",
   "execution_count": 4,
   "id": "135770e6-f650-4f06-a7ff-d997f9a7d16d",
   "metadata": {},
   "outputs": [
    {
     "data": {
      "text/plain": [
       "array([ 1, -1,  3, -1,  5])"
      ]
     },
     "execution_count": 4,
     "metadata": {},
     "output_type": "execute_result"
    }
   ],
   "source": [
    "import numpy as np\n",
    "ar = np.array([1, 2, 3, 4, 5])\n",
    "# Multiique todos os elementos por 10.\n",
    "m = ar * 10\n",
    "m\n",
    "# Calcule a média dos valores.\n",
    "media  =  np.mean(ar)\n",
    "media\n",
    "# Substitua os números pares por -1.\n",
    "x = -1\n",
    "r = ar [ar % 2 == 0 ] = x\n",
    "ar\n"
   ]
  },
  {
   "cell_type": "code",
   "execution_count": 15,
   "id": "e9d6b26f-bd32-4c62-89b2-4a532e987105",
   "metadata": {},
   "outputs": [
    {
     "name": "stdout",
     "output_type": "stream",
     "text": [
      "[[65 62 76 18  0]\n",
      " [ 2  0 23 62 54]\n",
      " [ 2 72 75 47 41]\n",
      " [73  9 18 47 35]\n",
      " [ 0 24 12 52 82]]\n",
      "44.2\n",
      "28.2\n",
      "47.4\n",
      "36.4\n",
      "34.0\n"
     ]
    },
    {
     "ename": "ValueError",
     "evalue": "The truth value of an array with more than one element is ambiguous. Use a.any() or a.all()",
     "output_type": "error",
     "traceback": [
      "\u001b[31m---------------------------------------------------------------------------\u001b[39m",
      "\u001b[31mValueError\u001b[39m                                Traceback (most recent call last)",
      "\u001b[36mCell\u001b[39m\u001b[36m \u001b[39m\u001b[32mIn[15]\u001b[39m\u001b[32m, line 24\u001b[39m\n\u001b[32m     21\u001b[39m m = soma /\u001b[38;5;28mlen\u001b[39m(array_2d[\u001b[32m4\u001b[39m])\n\u001b[32m     22\u001b[39m \u001b[38;5;28mprint\u001b[39m(m)\n\u001b[32m---> \u001b[39m\u001b[32m24\u001b[39m maxi = \u001b[38;5;28;43mmax\u001b[39;49m\u001b[43m(\u001b[49m\u001b[43marray_2d\u001b[49m\u001b[43m)\u001b[49m\n\u001b[32m     25\u001b[39m \u001b[38;5;28mprint\u001b[39m(maxi)\n\u001b[32m     27\u001b[39m mini = \u001b[38;5;28mmin\u001b[39m(array_2d)\n",
      "\u001b[31mValueError\u001b[39m: The truth value of an array with more than one element is ambiguous. Use a.any() or a.all()"
     ]
    }
   ],
   "source": [
    "import numpy as np \n",
    "array_2d = np.random.randint(0, 100, size=(5, 5))\n",
    "print(array_2d)\n",
    "\n",
    "soma = sum(array_2d[0])\n",
    "m = soma /len(array_2d[0])\n",
    "print(m)\n",
    "soma = sum(array_2d[1])\n",
    "m = soma /len(array_2d[1])\n",
    "print(m)\n",
    "\n",
    "soma = sum(array_2d[2])\n",
    "m = soma /len(array_2d[2])\n",
    "print(m)\n",
    "\n",
    "soma = sum(array_2d[3])\n",
    "m = soma /len(array_2d[3])\n",
    "print(m)\n",
    "\n",
    "soma = sum(array_2d[4])\n",
    "m = soma /len(array_2d[4])\n",
    "print(m)\n",
    "\n",
    "maxi = max(array_2d)\n",
    "print(maxi)\n",
    "\n",
    "mini = min(array_2d)\n",
    "print(mini)\n",
    "\n"
   ]
  },
  {
   "cell_type": "code",
   "execution_count": null,
   "id": "06705a02-c044-4e99-a9ac-9821d2a6c465",
   "metadata": {},
   "outputs": [],
   "source": []
  }
 ],
 "metadata": {
  "kernelspec": {
   "display_name": "Python 3 (ipykernel)",
   "language": "python",
   "name": "python3"
  },
  "language_info": {
   "codemirror_mode": {
    "name": "ipython",
    "version": 3
   },
   "file_extension": ".py",
   "mimetype": "text/x-python",
   "name": "python",
   "nbconvert_exporter": "python",
   "pygments_lexer": "ipython3",
   "version": "3.13.2"
  }
 },
 "nbformat": 4,
 "nbformat_minor": 5
}
