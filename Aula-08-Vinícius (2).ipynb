{
 "cells": [
  {
   "cell_type": "markdown",
   "id": "3ab7f8a5-d00a-4094-acee-ab6ecc107888",
   "metadata": {},
   "source": [
    "import numpy as np"
   ]
  },
  {
   "cell_type": "code",
   "execution_count": 4,
   "id": "135770e6-f650-4f06-a7ff-d997f9a7d16d",
   "metadata": {},
   "outputs": [
    {
     "data": {
      "text/plain": [
       "array([ 1, -1,  3, -1,  5])"
      ]
     },
     "execution_count": 4,
     "metadata": {},
     "output_type": "execute_result"
    }
   ],
   "source": [
    "import numpy as np\n",
    "ar = np.array([1, 2, 3, 4, 5])\n",
    "# Multiique todos os elementos por 10.\n",
    "m = ar * 10\n",
    "m\n",
    "# Calcule a média dos valores.\n",
    "media  =  np.mean(ar)\n",
    "media\n",
    "# Substitua os números pares por -1.\n",
    "x = -1\n",
    "r = ar [ar % 2 == 0 ] = x\n",
    "ar\n"
   ]
  },
  {
   "cell_type": "code",
   "execution_count": 3,
   "id": "e9d6b26f-bd32-4c62-89b2-4a532e987105",
   "metadata": {},
   "outputs": [
    {
     "name": "stdout",
     "output_type": "stream",
     "text": [
      "[[24 77 63  9 11]\n",
      " [72 41 20 69 14]\n",
      " [41 62 39 13 84]\n",
      " [89 65 96 72 60]\n",
      " [71 19 26 97 68]]\n",
      "36.8\n",
      "43.2\n",
      "47.8\n",
      "76.4\n",
      "56.2\n"
     ]
    }
   ],
   "source": [
    "import numpy as np \n",
    "array_2d = np.random.randint(0, 100, size=(5, 5))\n",
    "print(array_2d)\n",
    "\n",
    "soma = sum(array_2d[0])\n",
    "m = soma /len(array_2d[0])\n",
    "print(m)\n",
    "soma = sum(array_2d[1])\n",
    "m = soma /len(array_2d[1])\n",
    "print(m)\n",
    "\n",
    "soma = sum(array_2d[2])\n",
    "m = soma /len(array_2d[2])\n",
    "print(m)\n",
    "\n",
    "soma = sum(array_2d[3])\n",
    "m = soma /len(array_2d[3])\n",
    "print(m)\n",
    "\n",
    "soma = sum(array_2d[4])\n",
    "m = soma /len(array_2d[4])\n",
    "print(m)\n",
    "\n",
    "\n"
   ]
  },
  {
   "cell_type": "code",
   "execution_count": null,
   "id": "06705a02-c044-4e99-a9ac-9821d2a6c465",
   "metadata": {},
   "outputs": [],
   "source": []
  }
 ],
 "metadata": {
  "kernelspec": {
   "display_name": "Python 3 (ipykernel)",
   "language": "python",
   "name": "python3"
  },
  "language_info": {
   "codemirror_mode": {
    "name": "ipython",
    "version": 3
   },
   "file_extension": ".py",
   "mimetype": "text/x-python",
   "name": "python",
   "nbconvert_exporter": "python",
   "pygments_lexer": "ipython3",
   "version": "3.13.2"
  }
 },
 "nbformat": 4,
 "nbformat_minor": 5
}
